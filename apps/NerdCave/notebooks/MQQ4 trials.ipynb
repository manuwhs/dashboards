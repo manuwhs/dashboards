{
 "cells": [
  {
   "cell_type": "markdown",
   "metadata": {},
   "source": [
    "# 1. MQQ4 trials\n"
   ]
  },
  {
   "cell_type": "code",
   "execution_count": 1,
   "metadata": {},
   "outputs": [],
   "source": [
    "%load_ext autoreload\n",
    "%autoreload 2\n",
    "\n",
    "import paho.mqtt.client as mqtt\n",
    "from pydriller import RepositoryMining\n",
    "import pandas as pd\n",
    "import pathlib\n",
    "import datetime\n",
    "import plotly.graph_objects as go"
   ]
  },
  {
   "cell_type": "code",
   "execution_count": 2,
   "metadata": {},
   "outputs": [],
   "source": [
    "list_received_messages = []\n",
    "\n",
    "# The callback for when the client receives a CONNACK response from the server.\n",
    "def on_connect(client, userdata, flags, rc):\n",
    "    print(\"Connected with result code \"+str(rc))\n",
    "\n",
    "    # Subscribing in on_connect() means that if we lose the connection and\n",
    "    # reconnect then subscriptions will be renewed.\n",
    "    # client.subscribe(\"$SYS/#\")\n",
    "\n",
    "# The callback for when a PUBLISH message is received from the server.\n",
    "def on_message(client, userdata, msg):\n",
    "    list_received_messages.append(msg.topic+\" \"+str(msg.payload))\n"
   ]
  },
  {
   "cell_type": "markdown",
   "metadata": {},
   "source": [
    "### Instantiate a client"
   ]
  },
  {
   "cell_type": "code",
   "execution_count": 3,
   "metadata": {},
   "outputs": [],
   "source": [
    "# Client(client_id=””, clean_session=True, userdata=None, protocol=MQTTv311, transport=”tcp”)\n",
    "client = mqtt.Client()"
   ]
  },
  {
   "cell_type": "code",
   "execution_count": 4,
   "metadata": {},
   "outputs": [],
   "source": [
    "client.on_connect = on_connect\n",
    "client.on_message = on_message"
   ]
  },
  {
   "cell_type": "markdown",
   "metadata": {},
   "source": [
    "## Connect to a broker"
   ]
  },
  {
   "cell_type": "markdown",
   "metadata": {},
   "source": [
    "http://www.steves-internet-guide.com/client-connections-python-mqtt/"
   ]
  },
  {
   "cell_type": "code",
   "execution_count": 5,
   "metadata": {},
   "outputs": [
    {
     "data": {
      "text/plain": [
       "0"
      ]
     },
     "execution_count": 5,
     "metadata": {},
     "output_type": "execute_result"
    }
   ],
   "source": [
    "# client.connect(host, port=1883, keepalive=60, bind_address=\"\")\n",
    "\n",
    "host = \"192.168.1.23\" # \"mqtt.eclipse.org\"\n",
    "client.connect(host, 1883, 60)"
   ]
  },
  {
   "cell_type": "code",
   "execution_count": 6,
   "metadata": {},
   "outputs": [
    {
     "name": "stdout",
     "output_type": "stream",
     "text": [
      "Connected with result code 0\n"
     ]
    }
   ],
   "source": [
    "client.loop_start() #start the loop. Activate handling of callbacks"
   ]
  },
  {
   "cell_type": "code",
   "execution_count": 7,
   "metadata": {},
   "outputs": [
    {
     "data": {
      "text/plain": [
       "(0, 2)"
      ]
     },
     "execution_count": 7,
     "metadata": {},
     "output_type": "execute_result"
    }
   ],
   "source": [
    "client.subscribe(\"house/light\")\n",
    "client.subscribe(\"house/toast\")"
   ]
  },
  {
   "cell_type": "code",
   "execution_count": 8,
   "metadata": {},
   "outputs": [],
   "source": [
    "message_info = client.publish(\"house/light\",\"gherthr\")\n",
    "message_info = client.publish(\"house/toast\",\"45\")"
   ]
  },
  {
   "cell_type": "code",
   "execution_count": 9,
   "metadata": {},
   "outputs": [
    {
     "data": {
      "text/plain": [
       "True"
      ]
     },
     "execution_count": 9,
     "metadata": {},
     "output_type": "execute_result"
    }
   ],
   "source": [
    "message_info.is_published()"
   ]
  },
  {
   "cell_type": "code",
   "execution_count": 10,
   "metadata": {},
   "outputs": [
    {
     "data": {
      "text/plain": [
       "[\"house/light b'gherthr'\", \"house/toast b'45'\"]"
      ]
     },
     "execution_count": 10,
     "metadata": {},
     "output_type": "execute_result"
    }
   ],
   "source": [
    "list_received_messages"
   ]
  },
  {
   "cell_type": "code",
   "execution_count": 11,
   "metadata": {},
   "outputs": [],
   "source": [
    "client.loop_stop() "
   ]
  },
  {
   "cell_type": "markdown",
   "metadata": {},
   "source": [
    "# 2. Pathlib trials"
   ]
  },
  {
   "cell_type": "code",
   "execution_count": 12,
   "metadata": {},
   "outputs": [
    {
     "data": {
      "text/plain": [
       "PosixPath('.')"
      ]
     },
     "execution_count": 12,
     "metadata": {},
     "output_type": "execute_result"
    }
   ],
   "source": [
    "pathlib.Path(\"./\")"
   ]
  },
  {
   "cell_type": "markdown",
   "metadata": {},
   "source": [
    "# 3. Formatting of data trials"
   ]
  },
  {
   "cell_type": "code",
   "execution_count": 13,
   "metadata": {},
   "outputs": [],
   "source": [
    "caca = {'Registration Timestamp': [datetime.datetime(2020, 2, 1, 18, 52, 24, 684720)], 'Topic': ['house/light'], 'Value': [b'hrtht']}"
   ]
  },
  {
   "cell_type": "code",
   "execution_count": 14,
   "metadata": {},
   "outputs": [
    {
     "data": {
      "text/html": [
       "<div>\n",
       "<style scoped>\n",
       "    .dataframe tbody tr th:only-of-type {\n",
       "        vertical-align: middle;\n",
       "    }\n",
       "\n",
       "    .dataframe tbody tr th {\n",
       "        vertical-align: top;\n",
       "    }\n",
       "\n",
       "    .dataframe thead th {\n",
       "        text-align: right;\n",
       "    }\n",
       "</style>\n",
       "<table border=\"1\" class=\"dataframe\">\n",
       "  <thead>\n",
       "    <tr style=\"text-align: right;\">\n",
       "      <th></th>\n",
       "      <th>Registration Timestamp</th>\n",
       "      <th>Topic</th>\n",
       "      <th>Value</th>\n",
       "    </tr>\n",
       "  </thead>\n",
       "  <tbody>\n",
       "    <tr>\n",
       "      <th>0</th>\n",
       "      <td>2020-02-01 18:52:24.684720</td>\n",
       "      <td>house/light</td>\n",
       "      <td>b'hrtht'</td>\n",
       "    </tr>\n",
       "  </tbody>\n",
       "</table>\n",
       "</div>"
      ],
      "text/plain": [
       "      Registration Timestamp        Topic     Value\n",
       "0 2020-02-01 18:52:24.684720  house/light  b'hrtht'"
      ]
     },
     "execution_count": 14,
     "metadata": {},
     "output_type": "execute_result"
    }
   ],
   "source": [
    "pd.DataFrame.from_dict(caca)"
   ]
  },
  {
   "cell_type": "markdown",
   "metadata": {},
   "source": [
    "# 4. Pydrill for github"
   ]
  },
  {
   "cell_type": "code",
   "execution_count": 15,
   "metadata": {},
   "outputs": [],
   "source": [
    "repo_dir = \"https://github.com/manuwhs/dashboards.git\""
   ]
  },
  {
   "cell_type": "code",
   "execution_count": 16,
   "metadata": {},
   "outputs": [],
   "source": [
    "repo_mining = RepositoryMining(repo_dir)"
   ]
  },
  {
   "cell_type": "code",
   "execution_count": 17,
   "metadata": {},
   "outputs": [],
   "source": [
    "commits = repo_mining.traverse_commits()"
   ]
  },
  {
   "cell_type": "code",
   "execution_count": 19,
   "metadata": {},
   "outputs": [
    {
     "name": "stdout",
     "output_type": "stream",
     "text": [
      "On 2020-02-01 12:59:06+01:00 the author Manuel Montoya includes 1 modified files\n",
      "Filename README.md\n",
      "On 2020-02-01 13:58:58+01:00 the author Manuel Montoya includes 30 modified files\n",
      "Filename Aptfile\n",
      "Filename LICENSE\n",
      "Filename app.json\n",
      "Filename .gitignore\n",
      "Filename Procfile\n",
      "Filename README.md\n",
      "Filename app.py\n",
      "   Lines added: 710\n",
      "   Lines removed: 0\n",
      "Filename dash-logo.png\n",
      "Filename resizing_script.js\n",
      "Filename s1.css\n",
      "Filename styles.css\n",
      "Filename controls.py\n",
      "   Lines added: 145\n",
      "   Lines removed: 0\n",
      "Filename Oil_and_Gas_Annual_Production__1985_-_2000.csv\n",
      "Filename Oil_and_Gas_Annual_Production__Beginning_2001.csv\n",
      "Filename OilandGasMetadata.html\n",
      "Filename dash-logo copy.png\n",
      "Filename points.pkl\n",
      "Filename wellspublic.csv\n",
      "Filename explore.ipynb\n",
      "Filename requirements.txt\n",
      "Filename animated1.gif\n",
      "Filename screenshot1.png\n",
      "Filename screenshot2.png\n",
      "Filename screenshot3.png\n",
      "Filename apps_directory_mapping.py\n",
      "   Lines added: 1\n",
      "   Lines removed: 0\n",
      "Filename deploy\n",
      "Filename init.R\n",
      "Filename predeploy.py\n",
      "   Lines added: 69\n",
      "   Lines removed: 0\n",
      "Filename requirements.txt\n",
      "Filename runtime.txt\n",
      "On 2020-02-01 19:31:20+01:00 the author Manuel Montoya includes 9 modified files\n",
      "Filename app.py\n",
      "   Lines added: 57\n",
      "   Lines removed: 543\n",
      "Filename house_light.csv\n",
      "Filename house_toast.csv\n",
      "Filename __init__.py\n",
      "   Lines added: 0\n",
      "   Lines removed: 0\n",
      "Filename layout.py\n",
      "   Lines added: 221\n",
      "   Lines removed: 0\n",
      "Filename mqq_utils.py\n",
      "   Lines added: 76\n",
      "   Lines removed: 0\n",
      "Filename MQQ4 trials.ipynb\n",
      "Filename plotting.py\n",
      "   Lines added: 266\n",
      "   Lines removed: 0\n",
      "Filename utils.py\n",
      "   Lines added: 127\n",
      "   Lines removed: 0\n"
     ]
    }
   ],
   "source": [
    "for commit in commits:\n",
    "    print('On {} the author {} includes {} modified files'.format(commit.committer_date, commit.author.name, len(commit.modifications)))\n",
    "    for modification in commit.modifications:\n",
    "        print('Filename {}'.format(modification.filename))\n",
    "        if modification.filename[-3:] == \".py\":\n",
    "            # print('Diff: {}'.format(modification.diff))\n",
    "            print(f\"   Lines added: {modification.added}\")\n",
    "            print(f\"   Lines removed: {modification.removed}\")\n",
    "\n",
    "\n",
    "for commit in commits:\n",
    "    print('On {} the author {} includes {} modified files'.format(commit.committer_date, commit.author.name, len(commit.modifications)))\n",
    "    for modification in commit.modifications:\n",
    "        print('Filename {}'.format(modification.filename))\n",
    "        if modification.filename[-3:] == \".py\":\n",
    "            # print('Diff: {}'.format(modification.diff))\n",
    "            print(f\"   Lines added: {modification.added}\")\n",
    "            print(f\"   Lines removed: {modification.removed}\")\n",
    "            "
   ]
  },
  {
   "cell_type": "markdown",
   "metadata": {},
   "source": [
    "## Generate charts with the repo info"
   ]
  },
  {
   "cell_type": "code",
   "execution_count": 20,
   "metadata": {},
   "outputs": [],
   "source": [
    "repo_dir = \"https://github.com/manuwhs/traphing\"\n",
    "repo_mining = RepositoryMining(repo_dir)\n",
    "commits = repo_mining.traverse_commits()"
   ]
  },
  {
   "cell_type": "code",
   "execution_count": 21,
   "metadata": {},
   "outputs": [],
   "source": [
    "data = {\"Commit Timestamp\": [], \"Author\":[],\n",
    "        \"Added Python lines\":[], \"Removed Python lines\":[], \"Modified files\": []}\n",
    "\n",
    "for commit in commits:\n",
    "    data[\"Author\"].append(commit.author.name)\n",
    "    data[\"Commit Timestamp\"].append(commit.committer_date)\n",
    "    data[\"Modified files\"].append(len(commit.modifications))\n",
    "    data[\"Added Python lines\"].append(0)\n",
    "    data[\"Removed Python lines\"].append(0)\n",
    "    \n",
    "    for modification in commit.modifications:\n",
    "        if modification.filename[-3:] == \".py\":\n",
    "            data[\"Added Python lines\"][-1] += modification.added\n",
    "            data[\"Removed Python lines\"][-1] += modification.removed\n",
    "\n",
    "df = pd.DataFrame.from_dict(data).set_index(\"Commit Timestamp\").sort_index()"
   ]
  },
  {
   "cell_type": "code",
   "execution_count": 22,
   "metadata": {},
   "outputs": [
    {
     "data": {
      "text/html": [
       "<div>\n",
       "<style scoped>\n",
       "    .dataframe tbody tr th:only-of-type {\n",
       "        vertical-align: middle;\n",
       "    }\n",
       "\n",
       "    .dataframe tbody tr th {\n",
       "        vertical-align: top;\n",
       "    }\n",
       "\n",
       "    .dataframe thead th {\n",
       "        text-align: right;\n",
       "    }\n",
       "</style>\n",
       "<table border=\"1\" class=\"dataframe\">\n",
       "  <thead>\n",
       "    <tr style=\"text-align: right;\">\n",
       "      <th></th>\n",
       "      <th>Author</th>\n",
       "      <th>Added Python lines</th>\n",
       "      <th>Removed Python lines</th>\n",
       "      <th>Modified files</th>\n",
       "    </tr>\n",
       "    <tr>\n",
       "      <th>Commit Timestamp</th>\n",
       "      <th></th>\n",
       "      <th></th>\n",
       "      <th></th>\n",
       "      <th></th>\n",
       "    </tr>\n",
       "  </thead>\n",
       "  <tbody>\n",
       "    <tr>\n",
       "      <th>2019-09-21 10:25:35+02:00</th>\n",
       "      <td>Manuel Montoya</td>\n",
       "      <td>0</td>\n",
       "      <td>0</td>\n",
       "      <td>1</td>\n",
       "    </tr>\n",
       "    <tr>\n",
       "      <th>2019-09-21 10:32:25+02:00</th>\n",
       "      <td>montoya</td>\n",
       "      <td>7498</td>\n",
       "      <td>0</td>\n",
       "      <td>167</td>\n",
       "    </tr>\n",
       "    <tr>\n",
       "      <th>2019-09-21 17:24:43+02:00</th>\n",
       "      <td>montoya</td>\n",
       "      <td>1825</td>\n",
       "      <td>819</td>\n",
       "      <td>200</td>\n",
       "    </tr>\n",
       "    <tr>\n",
       "      <th>2019-09-21 18:17:08+02:00</th>\n",
       "      <td>montoya</td>\n",
       "      <td>6128</td>\n",
       "      <td>1</td>\n",
       "      <td>79</td>\n",
       "    </tr>\n",
       "    <tr>\n",
       "      <th>2019-09-21 18:19:22+02:00</th>\n",
       "      <td>montoya</td>\n",
       "      <td>0</td>\n",
       "      <td>0</td>\n",
       "      <td>1</td>\n",
       "    </tr>\n",
       "    <tr>\n",
       "      <th>2019-09-21 18:20:40+02:00</th>\n",
       "      <td>montoya</td>\n",
       "      <td>0</td>\n",
       "      <td>6127</td>\n",
       "      <td>66</td>\n",
       "    </tr>\n",
       "    <tr>\n",
       "      <th>2019-09-22 12:23:08+02:00</th>\n",
       "      <td>montoya</td>\n",
       "      <td>4567</td>\n",
       "      <td>846</td>\n",
       "      <td>42</td>\n",
       "    </tr>\n",
       "    <tr>\n",
       "      <th>2019-09-22 22:16:42+02:00</th>\n",
       "      <td>montoya</td>\n",
       "      <td>522</td>\n",
       "      <td>186</td>\n",
       "      <td>14</td>\n",
       "    </tr>\n",
       "    <tr>\n",
       "      <th>2019-09-23 20:50:48+02:00</th>\n",
       "      <td>montoya</td>\n",
       "      <td>326</td>\n",
       "      <td>11</td>\n",
       "      <td>10</td>\n",
       "    </tr>\n",
       "    <tr>\n",
       "      <th>2019-10-06 19:46:22+02:00</th>\n",
       "      <td>montoya</td>\n",
       "      <td>1301</td>\n",
       "      <td>690</td>\n",
       "      <td>64</td>\n",
       "    </tr>\n",
       "    <tr>\n",
       "      <th>2019-10-07 11:33:08+02:00</th>\n",
       "      <td>montoya</td>\n",
       "      <td>82</td>\n",
       "      <td>61</td>\n",
       "      <td>14</td>\n",
       "    </tr>\n",
       "    <tr>\n",
       "      <th>2019-10-07 13:44:45+02:00</th>\n",
       "      <td>montoya</td>\n",
       "      <td>184</td>\n",
       "      <td>126</td>\n",
       "      <td>22</td>\n",
       "    </tr>\n",
       "    <tr>\n",
       "      <th>2019-10-07 21:01:03+02:00</th>\n",
       "      <td>montoya</td>\n",
       "      <td>503</td>\n",
       "      <td>627</td>\n",
       "      <td>15</td>\n",
       "    </tr>\n",
       "    <tr>\n",
       "      <th>2019-10-09 23:49:25+02:00</th>\n",
       "      <td>montoya</td>\n",
       "      <td>645</td>\n",
       "      <td>386</td>\n",
       "      <td>21</td>\n",
       "    </tr>\n",
       "    <tr>\n",
       "      <th>2019-10-10 16:03:42+02:00</th>\n",
       "      <td>montoya</td>\n",
       "      <td>230</td>\n",
       "      <td>19</td>\n",
       "      <td>6</td>\n",
       "    </tr>\n",
       "    <tr>\n",
       "      <th>2019-10-11 00:59:56+02:00</th>\n",
       "      <td>montoya</td>\n",
       "      <td>72</td>\n",
       "      <td>38</td>\n",
       "      <td>14</td>\n",
       "    </tr>\n",
       "    <tr>\n",
       "      <th>2019-10-14 09:51:51+02:00</th>\n",
       "      <td>montoya</td>\n",
       "      <td>814</td>\n",
       "      <td>787</td>\n",
       "      <td>29</td>\n",
       "    </tr>\n",
       "    <tr>\n",
       "      <th>2019-10-14 13:25:20+02:00</th>\n",
       "      <td>montoya</td>\n",
       "      <td>213</td>\n",
       "      <td>763</td>\n",
       "      <td>18</td>\n",
       "    </tr>\n",
       "    <tr>\n",
       "      <th>2019-10-14 18:06:45+02:00</th>\n",
       "      <td>montoya</td>\n",
       "      <td>26</td>\n",
       "      <td>16</td>\n",
       "      <td>24</td>\n",
       "    </tr>\n",
       "    <tr>\n",
       "      <th>2019-10-17 01:15:13+02:00</th>\n",
       "      <td>montoya</td>\n",
       "      <td>599</td>\n",
       "      <td>623</td>\n",
       "      <td>66</td>\n",
       "    </tr>\n",
       "    <tr>\n",
       "      <th>2019-10-17 14:45:54+02:00</th>\n",
       "      <td>montoya</td>\n",
       "      <td>240</td>\n",
       "      <td>192</td>\n",
       "      <td>27</td>\n",
       "    </tr>\n",
       "    <tr>\n",
       "      <th>2019-10-17 17:17:51+02:00</th>\n",
       "      <td>montoya</td>\n",
       "      <td>5</td>\n",
       "      <td>23</td>\n",
       "      <td>21</td>\n",
       "    </tr>\n",
       "    <tr>\n",
       "      <th>2019-10-18 00:50:30+02:00</th>\n",
       "      <td>montoya</td>\n",
       "      <td>25</td>\n",
       "      <td>11</td>\n",
       "      <td>8</td>\n",
       "    </tr>\n",
       "    <tr>\n",
       "      <th>2019-10-20 11:20:27+02:00</th>\n",
       "      <td>montoya</td>\n",
       "      <td>1</td>\n",
       "      <td>3</td>\n",
       "      <td>7</td>\n",
       "    </tr>\n",
       "    <tr>\n",
       "      <th>2019-10-20 14:04:43+02:00</th>\n",
       "      <td>montoya</td>\n",
       "      <td>57</td>\n",
       "      <td>63</td>\n",
       "      <td>11</td>\n",
       "    </tr>\n",
       "    <tr>\n",
       "      <th>2019-10-20 17:37:11+02:00</th>\n",
       "      <td>montoya</td>\n",
       "      <td>120</td>\n",
       "      <td>62</td>\n",
       "      <td>23</td>\n",
       "    </tr>\n",
       "    <tr>\n",
       "      <th>2019-10-20 19:44:10+02:00</th>\n",
       "      <td>montoya</td>\n",
       "      <td>108</td>\n",
       "      <td>44</td>\n",
       "      <td>15</td>\n",
       "    </tr>\n",
       "    <tr>\n",
       "      <th>2019-10-21 14:09:36+02:00</th>\n",
       "      <td>montoya</td>\n",
       "      <td>261</td>\n",
       "      <td>57</td>\n",
       "      <td>29</td>\n",
       "    </tr>\n",
       "    <tr>\n",
       "      <th>2019-10-22 00:26:36+02:00</th>\n",
       "      <td>montoya</td>\n",
       "      <td>396</td>\n",
       "      <td>346</td>\n",
       "      <td>23</td>\n",
       "    </tr>\n",
       "    <tr>\n",
       "      <th>2019-10-22 21:45:58+02:00</th>\n",
       "      <td>montoya</td>\n",
       "      <td>560</td>\n",
       "      <td>349</td>\n",
       "      <td>31</td>\n",
       "    </tr>\n",
       "    <tr>\n",
       "      <th>2019-10-23 21:55:12+02:00</th>\n",
       "      <td>montoya</td>\n",
       "      <td>452</td>\n",
       "      <td>181</td>\n",
       "      <td>36</td>\n",
       "    </tr>\n",
       "    <tr>\n",
       "      <th>2019-10-24 18:43:39+02:00</th>\n",
       "      <td>montoya</td>\n",
       "      <td>271</td>\n",
       "      <td>226</td>\n",
       "      <td>25</td>\n",
       "    </tr>\n",
       "    <tr>\n",
       "      <th>2019-10-26 17:11:10+02:00</th>\n",
       "      <td>montoya</td>\n",
       "      <td>354</td>\n",
       "      <td>17</td>\n",
       "      <td>11</td>\n",
       "    </tr>\n",
       "    <tr>\n",
       "      <th>2019-10-27 14:00:23+01:00</th>\n",
       "      <td>montoya</td>\n",
       "      <td>33</td>\n",
       "      <td>13</td>\n",
       "      <td>9</td>\n",
       "    </tr>\n",
       "    <tr>\n",
       "      <th>2019-10-27 17:53:45+01:00</th>\n",
       "      <td>montoya</td>\n",
       "      <td>4</td>\n",
       "      <td>0</td>\n",
       "      <td>15</td>\n",
       "    </tr>\n",
       "    <tr>\n",
       "      <th>2019-10-27 18:28:03+01:00</th>\n",
       "      <td>montoya</td>\n",
       "      <td>0</td>\n",
       "      <td>0</td>\n",
       "      <td>3</td>\n",
       "    </tr>\n",
       "    <tr>\n",
       "      <th>2019-10-27 19:11:32+01:00</th>\n",
       "      <td>montoya</td>\n",
       "      <td>10</td>\n",
       "      <td>10</td>\n",
       "      <td>3</td>\n",
       "    </tr>\n",
       "    <tr>\n",
       "      <th>2019-11-04 07:41:37+01:00</th>\n",
       "      <td>montoya</td>\n",
       "      <td>30</td>\n",
       "      <td>82</td>\n",
       "      <td>17</td>\n",
       "    </tr>\n",
       "    <tr>\n",
       "      <th>2019-11-17 15:38:13+01:00</th>\n",
       "      <td>montoya</td>\n",
       "      <td>210</td>\n",
       "      <td>168</td>\n",
       "      <td>17</td>\n",
       "    </tr>\n",
       "  </tbody>\n",
       "</table>\n",
       "</div>"
      ],
      "text/plain": [
       "                                   Author  Added Python lines  \\\n",
       "Commit Timestamp                                                \n",
       "2019-09-21 10:25:35+02:00  Manuel Montoya                   0   \n",
       "2019-09-21 10:32:25+02:00         montoya                7498   \n",
       "2019-09-21 17:24:43+02:00         montoya                1825   \n",
       "2019-09-21 18:17:08+02:00         montoya                6128   \n",
       "2019-09-21 18:19:22+02:00         montoya                   0   \n",
       "2019-09-21 18:20:40+02:00         montoya                   0   \n",
       "2019-09-22 12:23:08+02:00         montoya                4567   \n",
       "2019-09-22 22:16:42+02:00         montoya                 522   \n",
       "2019-09-23 20:50:48+02:00         montoya                 326   \n",
       "2019-10-06 19:46:22+02:00         montoya                1301   \n",
       "2019-10-07 11:33:08+02:00         montoya                  82   \n",
       "2019-10-07 13:44:45+02:00         montoya                 184   \n",
       "2019-10-07 21:01:03+02:00         montoya                 503   \n",
       "2019-10-09 23:49:25+02:00         montoya                 645   \n",
       "2019-10-10 16:03:42+02:00         montoya                 230   \n",
       "2019-10-11 00:59:56+02:00         montoya                  72   \n",
       "2019-10-14 09:51:51+02:00         montoya                 814   \n",
       "2019-10-14 13:25:20+02:00         montoya                 213   \n",
       "2019-10-14 18:06:45+02:00         montoya                  26   \n",
       "2019-10-17 01:15:13+02:00         montoya                 599   \n",
       "2019-10-17 14:45:54+02:00         montoya                 240   \n",
       "2019-10-17 17:17:51+02:00         montoya                   5   \n",
       "2019-10-18 00:50:30+02:00         montoya                  25   \n",
       "2019-10-20 11:20:27+02:00         montoya                   1   \n",
       "2019-10-20 14:04:43+02:00         montoya                  57   \n",
       "2019-10-20 17:37:11+02:00         montoya                 120   \n",
       "2019-10-20 19:44:10+02:00         montoya                 108   \n",
       "2019-10-21 14:09:36+02:00         montoya                 261   \n",
       "2019-10-22 00:26:36+02:00         montoya                 396   \n",
       "2019-10-22 21:45:58+02:00         montoya                 560   \n",
       "2019-10-23 21:55:12+02:00         montoya                 452   \n",
       "2019-10-24 18:43:39+02:00         montoya                 271   \n",
       "2019-10-26 17:11:10+02:00         montoya                 354   \n",
       "2019-10-27 14:00:23+01:00         montoya                  33   \n",
       "2019-10-27 17:53:45+01:00         montoya                   4   \n",
       "2019-10-27 18:28:03+01:00         montoya                   0   \n",
       "2019-10-27 19:11:32+01:00         montoya                  10   \n",
       "2019-11-04 07:41:37+01:00         montoya                  30   \n",
       "2019-11-17 15:38:13+01:00         montoya                 210   \n",
       "\n",
       "                           Removed Python lines  Modified files  \n",
       "Commit Timestamp                                                 \n",
       "2019-09-21 10:25:35+02:00                     0               1  \n",
       "2019-09-21 10:32:25+02:00                     0             167  \n",
       "2019-09-21 17:24:43+02:00                   819             200  \n",
       "2019-09-21 18:17:08+02:00                     1              79  \n",
       "2019-09-21 18:19:22+02:00                     0               1  \n",
       "2019-09-21 18:20:40+02:00                  6127              66  \n",
       "2019-09-22 12:23:08+02:00                   846              42  \n",
       "2019-09-22 22:16:42+02:00                   186              14  \n",
       "2019-09-23 20:50:48+02:00                    11              10  \n",
       "2019-10-06 19:46:22+02:00                   690              64  \n",
       "2019-10-07 11:33:08+02:00                    61              14  \n",
       "2019-10-07 13:44:45+02:00                   126              22  \n",
       "2019-10-07 21:01:03+02:00                   627              15  \n",
       "2019-10-09 23:49:25+02:00                   386              21  \n",
       "2019-10-10 16:03:42+02:00                    19               6  \n",
       "2019-10-11 00:59:56+02:00                    38              14  \n",
       "2019-10-14 09:51:51+02:00                   787              29  \n",
       "2019-10-14 13:25:20+02:00                   763              18  \n",
       "2019-10-14 18:06:45+02:00                    16              24  \n",
       "2019-10-17 01:15:13+02:00                   623              66  \n",
       "2019-10-17 14:45:54+02:00                   192              27  \n",
       "2019-10-17 17:17:51+02:00                    23              21  \n",
       "2019-10-18 00:50:30+02:00                    11               8  \n",
       "2019-10-20 11:20:27+02:00                     3               7  \n",
       "2019-10-20 14:04:43+02:00                    63              11  \n",
       "2019-10-20 17:37:11+02:00                    62              23  \n",
       "2019-10-20 19:44:10+02:00                    44              15  \n",
       "2019-10-21 14:09:36+02:00                    57              29  \n",
       "2019-10-22 00:26:36+02:00                   346              23  \n",
       "2019-10-22 21:45:58+02:00                   349              31  \n",
       "2019-10-23 21:55:12+02:00                   181              36  \n",
       "2019-10-24 18:43:39+02:00                   226              25  \n",
       "2019-10-26 17:11:10+02:00                    17              11  \n",
       "2019-10-27 14:00:23+01:00                    13               9  \n",
       "2019-10-27 17:53:45+01:00                     0              15  \n",
       "2019-10-27 18:28:03+01:00                     0               3  \n",
       "2019-10-27 19:11:32+01:00                    10               3  \n",
       "2019-11-04 07:41:37+01:00                    82              17  \n",
       "2019-11-17 15:38:13+01:00                   168              17  "
      ]
     },
     "execution_count": 22,
     "metadata": {},
     "output_type": "execute_result"
    }
   ],
   "source": [
    "df"
   ]
  },
  {
   "cell_type": "code",
   "execution_count": 23,
   "metadata": {},
   "outputs": [
    {
     "data": {
      "application/vnd.jupyter.widget-view+json": {
       "model_id": "ef6200f48fa04f548dcb2a304b576d41",
       "version_major": 2,
       "version_minor": 0
      },
      "text/plain": [
       "FigureWidget({\n",
       "    'data': [{'marker': {'color': 'rgb(55, 83, 109)'},\n",
       "              'name': 'Added lines',\n",
       "   …"
      ]
     },
     "metadata": {},
     "output_type": "display_data"
    }
   ],
   "source": [
    "import datetime as dt\n",
    "dates = [dt.datetime(year = x.year, month = x.month, day = x.day) for x in df.index]\n",
    "\n",
    "\n",
    "fig = go.Figure()\n",
    "fig.add_trace(go.Bar(x=dates,\n",
    "                y= df[\"Added Python lines\"],\n",
    "                name='Added lines',\n",
    "                marker_color='rgb(55, 83, 109)',\n",
    "                # width = 10000000,\n",
    "                ))\n",
    "fig.add_trace(go.Bar(x=dates,\n",
    "                y= df[\"Removed Python lines\"],\n",
    "                name='Removed lines',\n",
    "                marker_color='rgb(26, 118, 255)'\n",
    "                ))\n",
    "\n",
    "fig.update_layout(\n",
    "    title='Repo modifications',\n",
    "    xaxis_tickfont_size=14,\n",
    "    yaxis=dict(\n",
    "        title='Lines added',\n",
    "        titlefont_size=16,\n",
    "        tickfont_size=14,\n",
    "    ),\n",
    "    legend=dict(\n",
    "        x=0,\n",
    "        y=1.0,\n",
    "        bgcolor='rgba(255, 255, 255, 0)',\n",
    "        bordercolor='rgba(255, 255, 255, 0)'\n",
    "    ),\n",
    "    barmode='group',\n",
    "    bargap=0.15, # gap between bars of adjacent location coordinates.\n",
    "    bargroupgap=0.1 # gap between bars of the same location coordinate.\n",
    ")\n",
    "\n",
    "figure = go.FigureWidget(fig)\n",
    "figure"
   ]
  },
  {
   "cell_type": "code",
   "execution_count": 26,
   "metadata": {},
   "outputs": [],
   "source": [
    "import sys\n",
    "sys.path.insert(0, \"../\")\n",
    "from plotting import holidays"
   ]
  },
  {
   "cell_type": "code",
   "execution_count": 29,
   "metadata": {},
   "outputs": [
    {
     "data": {
      "application/vnd.jupyter.widget-view+json": {
       "model_id": "2e2bc06cfe4d48d29696dca5b53a39b1",
       "version_major": 2,
       "version_minor": 0
      },
      "text/plain": [
       "FigureWidget({\n",
       "    'data': [{'colorscale': [[False, '#eeeeee'], [True, '#76cf63']],\n",
       "              'hoverinfo':…"
      ]
     },
     "metadata": {},
     "output_type": "display_data"
    }
   ],
   "source": [
    "holidays(df)"
   ]
  },
  {
   "cell_type": "code",
   "execution_count": null,
   "metadata": {},
   "outputs": [],
   "source": []
  }
 ],
 "metadata": {
  "kernelspec": {
   "display_name": "Python 3.7.4 64-bit ('python36': conda)",
   "language": "python",
   "name": "python37464bitpython36conda00a4ab2764bf4e17b8dd86209d1c17ee"
  },
  "language_info": {
   "codemirror_mode": {
    "name": "ipython",
    "version": 3
   },
   "file_extension": ".py",
   "mimetype": "text/x-python",
   "name": "python",
   "nbconvert_exporter": "python",
   "pygments_lexer": "ipython3",
   "version": "3.7.4"
  }
 },
 "nbformat": 4,
 "nbformat_minor": 2
}
